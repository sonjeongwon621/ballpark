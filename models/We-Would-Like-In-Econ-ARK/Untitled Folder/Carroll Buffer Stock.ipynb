{
 "cells": [
  {
   "cell_type": "markdown",
   "metadata": {},
   "source": [
    "### Buffer-Stock Saving and the Life Cycle/Permanent Income Hypothesis\n",
    "Author: Christopher D. Carroll  \n",
    "Notebook by Yusuf Suha Kulu and Jeongwon (John) Son  "
   ]
  },
  {
   "cell_type": "markdown",
   "metadata": {},
   "source": [
    "##### Model Setup\n",
    "\n",
    "The consumer solves the following intertemporal optimization problem.  \n",
    "\n",
    "$$ \\max \\quad E_t \\Sigma_{i=t}^T \\beta^{i-t}u(C_i) $$\n",
    "$$ \\begin{aligned} \\text{s.t.} \\quad W_{t+q} &= R[W_t + Y_t - C_t]\\\\\n",
    "Y_t &= P_tV_t\\\\\n",
    "P_t &= G_tP_{t-1}N_t \\end{aligned}$$   \n",
    "$Y$: current labor income  \n",
    "$P$: permanent labor income  \n",
    "$V$: transitory income shock  \n",
    "$N$: permanent income shock\n",
    "$G = (1+g)$: growth factor for permanent labor income  \n",
    "$W$: stock of physical net wealth  \n",
    "$R = (1+r)$: gross interest rate  \n",
    "$\\beta = 1/(1+\\delta)$: discount factor\n",
    "\n",
    "Solving the consumer's optimization problem gives the following Euler equation.  \n",
    "\n",
    "$$1= R\\beta E_{t-1}[\\{c_t[R[x_{t-1}-c_{t-1}]/GN_t + V_t]GN_t/c_{t-1}\\}^{-\\rho}]$$  \n",
    "Lower case variables are defined as the uppercase variables divided by the current level of permanent income.  \n",
    "$X = W+Y$: gross wealth\n",
    "\n",
    "Since this is a life cycle model, the consumer consumes everything in the last period:$c_T[x_T] = x_t$. This implies that by recursion, the Euler equation gives the consumption ratio for each period.  \n",
    "\n",
    "If shocks to consumption are assumed to be lognormally distributed, a log-linearized version of the Euler equation takes the following form.\n",
    "\n",
    "$$ E_t\\Delta \\ln C_{t+1} \\approx \\rho^{-1}(r-\\delta) + (\\rho/2)\\text{var}_t(\\Delta\\ln C_{t+1}) + e_{t+1} $$\n",
    "\n",
    "The figure below depicts expected consumption growth. As can be seen from the directional arrows, there is a target level of wealth ratio and consumption ratio.\n",
    "<img src='figure1.jpg' alt=\"drawing\" width=\"800\"/>\n",
    "\n",
    "##### Methods of Solution\n",
    "\n",
    "The optimal consumption for a given value of gross wealth, $c_t(x_t)$, is derived by solving the Euler equation recursively backwards.\n",
    "\n",
    "1. $c_T(x_T) = x_T$\n",
    "2. For $m$ values of $x_{T-1}$, by using the Euler equation, compute the corresponding $m$ values of $c_{T-1}(x_{T-1})$.\n",
    "3. Using cubic interpolation for values of $x_{T-1}$ between the m values, numerically calculate the function $c_{T-1}(x_{T-1})$.\n",
    "4. Given $c_{T-1}(x_{T-1})$, use the same methods as 2 and 3 to numerically solve for $c_{T-2}(x_{T-2})$.\n",
    "5. Continue this method until period $t$.\n",
    "\n",
    "For the infinite horizon version of this model, the following convergence criterion is used.\n",
    "$$\\frac{1}{m}\\Sigma\\vert c_t(x_i) - c_{t+1}(x_i)\\vert < 0.0005$$\n"
   ]
  }
 ],
 "metadata": {
  "kernelspec": {
   "display_name": "Python 2",
   "language": "python",
   "name": "python2"
  },
  "language_info": {
   "codemirror_mode": {
    "name": "ipython",
    "version": 2
   },
   "file_extension": ".py",
   "mimetype": "text/x-python",
   "name": "python",
   "nbconvert_exporter": "python",
   "pygments_lexer": "ipython2",
   "version": "2.7.16"
  }
 },
 "nbformat": 4,
 "nbformat_minor": 2
}
